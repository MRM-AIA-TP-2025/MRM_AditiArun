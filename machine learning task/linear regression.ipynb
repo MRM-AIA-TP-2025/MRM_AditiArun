{
 "cells": [
  {
   "cell_type": "code",
   "execution_count": 20,
   "metadata": {},
   "outputs": [
    {
     "name": "stdout",
     "output_type": "stream",
     "text": [
      "R2 Score: 0.40217976399568534\n"
     ]
    }
   ],
   "source": [
    "import pandas as pd\n",
    "import numpy as np\n",
    "import math\n",
    "import matplotlib.pyplot as plt\n",
    "from sklearn.model_selection import train_test_split\n",
    "from sklearn.metrics import r2_score\n",
    "from sklearn.linear_model import LinearRegression\n",
    "\n",
    "data = pd.read_csv('~/Downloads/winequality-red.csv')\n",
    "X = data[['fixed acidity', 'volatile acidity', 'citric acid', 'residual sugar', 'chlorides', 'free sulfur dioxide', 'total sulfur dioxide', 'density', 'pH', 'sulphates', 'alcohol']]\n",
    "Y = data['quality']\n",
    "\n",
    "\n",
    "X_train, X_test, Y_train, Y_test = train_test_split(X, Y, test_size=0.2, random_state=42)\n",
    "\n",
    "\n",
    "def z_score_normalization(X):\n",
    "    mean = np.mean(X, axis=0)\n",
    "    std = np.std(X, axis=0)\n",
    "    X_normalized = (X - mean) / std\n",
    "    return X_normalized\n",
    "\n",
    "\n",
    "X_train_normalized = z_score_normalization(X_train)\n",
    "X_test_normalized = z_score_normalization(X_test)\n",
    "\n",
    "\n",
    "X_train_normalized_bias = np.c_[np.ones((X_train_normalized.shape[0], 1)), X_train_normalized]\n",
    "X_test_normalized_bias = np.c_[np.ones((X_test_normalized.shape[0], 1)), X_test_normalized]\n",
    "\n",
    "\n",
    "def gradient_descent(X_train_normalized, Y_train, theta, learning_rate, iterations):\n",
    "    m = len(Y_train)\n",
    "    for _ in range(iterations):\n",
    "        error = (X_train_normalized@ theta - Y_train)#*(X_train_normalized@ theta - Y_train)\n",
    "        gradient = X_train_normalized.T @ (error) / m# d cost/d theta\n",
    "        theta = theta - learning_rate * gradient\n",
    "    return theta\n",
    "\n",
    "\n",
    "theta = np.zeros(X_train_normalized_bias.shape[1])\n",
    "learning_rate = 0.001\n",
    "iterations = 10000\n",
    "\n",
    "\n",
    "theta = gradient_descent(X_train_normalized_bias, Y_train.values, theta, learning_rate, iterations)\n",
    "\n",
    "\n",
    "predictions = X_test_normalized_bias @ theta\n",
    "\n",
    "\n",
    "score = r2_score(Y_test, predictions)\n",
    "print(\"R2 Score:\", score)"
   ]
  }
 ],
 "metadata": {
  "kernelspec": {
   "display_name": "Python 3",
   "language": "python",
   "name": "python3"
  },
  "language_info": {
   "codemirror_mode": {
    "name": "ipython",
    "version": 3
   },
   "file_extension": ".py",
   "mimetype": "text/x-python",
   "name": "python",
   "nbconvert_exporter": "python",
   "pygments_lexer": "ipython3",
   "version": "3.8.10"
  }
 },
 "nbformat": 4,
 "nbformat_minor": 2
}
